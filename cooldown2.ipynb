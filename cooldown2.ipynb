{
 "cells": [
  {
   "cell_type": "code",
   "execution_count": 1,
   "metadata": {},
   "outputs": [
    {
     "name": "stdout",
     "output_type": "stream",
     "text": [
      "Window 1200 too large. Set to 594\n",
      "Previous best found: loading the model...\n"
     ]
    },
    {
     "data": {
      "text/plain": [
       "RNNGenerator3(\n",
       "  (encoder): Sequential(\n",
       "    (0): NoiseInjector()\n",
       "    (1): Conv1d(1, 64, kernel_size=(32,), stride=(3,))\n",
       "    (2): ReLU()\n",
       "    (3): NoiseInjector()\n",
       "  )\n",
       "  (resblock): GRU(64, 64, batch_first=True)\n",
       "  (decoder): Sequential(\n",
       "    (0): NoiseInjector()\n",
       "    (1): Linear(in_features=64, out_features=1, bias=True)\n",
       "    (2): Hardsigmoid()\n",
       "  )\n",
       ")"
      ]
     },
     "execution_count": 1,
     "metadata": {},
     "output_type": "execute_result"
    }
   ],
   "source": [
    "import numpy as np\n",
    "import torch\n",
    "import torch.nn.functional as F\n",
    "import torch.nn as nn\n",
    "from torch.utils.data import Dataset, DataLoader, random_split\n",
    "from MayaDataset import CNNCLF\n",
    "import MayaDataset\n",
    "from DefenderGAN import Warmup\n",
    "from Models import RNNGenerator2, RNNInference, RNNGenerator3, RNNInference3\n",
    "import argparse\n",
    "import time\n",
    "import os\n",
    "victim = 'video'\n",
    "dataset = MayaDataset.MayaDataset('traces/raw_video/',minpower=25, maxpower=225, window=1200, labels=victim)\n",
    "\n",
    "dsets = random_split(dataset, [1000,1000,1000, len(dataset)-3000])\n",
    "trainset = dsets[0]\n",
    "trainloader = DataLoader(trainset, batch_size=32, num_workers=4)\n",
    "\n",
    "valset = dsets[1]\n",
    "valloader = DataLoader(valset, batch_size=32, num_workers=4)\n",
    "\n",
    "testset = dsets[2]\n",
    "testloader = DataLoader(testset, batch_size=32, num_workers=4)\n",
    "\n",
    "dim=64\n",
    "clf = CNNCLF(dataset.window//3).cuda()\n",
    "gen = RNNGenerator3(dim).cuda()\n",
    "bestname = './best_{}_{}_{}.pth'.format(victim,'rnn3',dim)\n",
    "#bestname = './best_{}_{}.pth'.format('rnn3',dim)\n",
    "if os.path.isfile(bestname):\n",
    "    print('Previous best found: loading the model...')\n",
    "    gen.load_state_dict(torch.load(bestname))\n",
    "gen.train()\n"
   ]
  },
  {
   "cell_type": "code",
   "execution_count": 2,
   "metadata": {},
   "outputs": [
    {
     "name": "stdout",
     "output_type": "stream",
     "text": [
      "Cooldown 1\t acc 0.1990\torgpower 157.15\t newpower: 185.52\n",
      "Cooldown 2\t acc 0.2340\torgpower 157.13\t newpower: 185.56\n",
      "Cooldown 3\t acc 0.2570\torgpower 157.17\t newpower: 185.57\n",
      "Cooldown 4\t acc 0.2530\torgpower 157.14\t newpower: 185.61\n",
      "Cooldown 5\t acc 0.2490\torgpower 157.08\t newpower: 185.55\n",
      "Cooldown 6\t acc 0.2680\torgpower 157.08\t newpower: 185.56\n",
      "Cooldown 7\t acc 0.2690\torgpower 157.12\t newpower: 185.50\n",
      "Cooldown 8\t acc 0.2590\torgpower 157.06\t newpower: 185.46\n",
      "Cooldown 9\t acc 0.2800\torgpower 157.15\t newpower: 185.58\n",
      "Cooldown 10\t acc 0.2670\torgpower 157.11\t newpower: 185.53\n",
      "Cooldown 11\t acc 0.2840\torgpower 157.12\t newpower: 185.52\n",
      "Cooldown 12\t acc 0.2700\torgpower 157.15\t newpower: 185.60\n",
      "Cooldown 13\t acc 0.2910\torgpower 157.14\t newpower: 185.53\n",
      "Cooldown 14\t acc 0.2800\torgpower 157.09\t newpower: 185.53\n",
      "Cooldown 15\t acc 0.2500\torgpower 157.11\t newpower: 185.52\n",
      "Cooldown 16\t acc 0.2780\torgpower 157.04\t newpower: 185.56\n",
      "Cooldown 17\t acc 0.2570\torgpower 157.12\t newpower: 185.54\n",
      "Cooldown 18\t acc 0.2880\torgpower 157.07\t newpower: 185.56\n",
      "Cooldown 19\t acc 0.2800\torgpower 157.11\t newpower: 185.55\n",
      "Cooldown 20\t acc 0.2780\torgpower 157.14\t newpower: 185.55\n",
      "Cooldown 21\t acc 0.2810\torgpower 157.16\t newpower: 185.54\n",
      "Cooldown 22\t acc 0.2810\torgpower 157.14\t newpower: 185.58\n",
      "Cooldown 23\t acc 0.3020\torgpower 157.11\t newpower: 185.56\n",
      "Cooldown 24\t acc 0.2880\torgpower 157.10\t newpower: 185.47\n",
      "Cooldown 25\t acc 0.2980\torgpower 157.09\t newpower: 185.50\n",
      "Cooldown 26\t acc 0.3070\torgpower 157.12\t newpower: 185.51\n",
      "Cooldown 27\t acc 0.2990\torgpower 157.12\t newpower: 185.51\n",
      "Cooldown 28\t acc 0.2840\torgpower 157.01\t newpower: 185.55\n",
      "Cooldown 29\t acc 0.2840\torgpower 157.05\t newpower: 185.58\n",
      "Cooldown 30\t acc 0.2860\torgpower 157.12\t newpower: 185.53\n",
      "Test acc 0.2860\torgpower 156.69\t newpower: 185.56\n"
     ]
    }
   ],
   "source": [
    "optim_c = torch.optim.Adam(clf.parameters(), lr=0.0001)\n",
    "criterion = nn.CrossEntropyLoss()\n",
    "bestacc = 0.0\n",
    "epochs = 30\n",
    "prange = dataset.maxpower - dataset.minpower\n",
    "pmin = dataset.minpower\n",
    "for e in range(epochs):\n",
    "    clf.train()\n",
    "    for x,y in trainloader:\n",
    "        optim_c.zero_grad()\n",
    "        xdata, ydata = x.cuda(), y.cuda()\n",
    "        perturb = gen(xdata)\n",
    "        p_input = perturb.detach()\n",
    "        output = clf(p_input)\n",
    "        loss = criterion(output, ydata)\n",
    "        loss.backward()\n",
    "        optim_c.step()\n",
    "    totcorrect = 0\n",
    "    totcount = 0\n",
    "    clf.eval()\n",
    "    orgpower = 0.0\n",
    "    newpower = 0.0\n",
    "    for x,y in valloader:\n",
    "        xdata, ydata = x.cuda(), y.cuda()\n",
    "        orgpower += xdata.mean().item()\n",
    "        perturb = gen(xdata)\n",
    "        p_input = perturb.detach()\n",
    "        newpower += p_input.mean().item()\n",
    "        output = clf(p_input)\n",
    "        pred = output.argmax(axis=-1)\n",
    "        totcorrect += (pred==ydata).sum().item()\n",
    "        totcount += y.size(0)\n",
    "    macc = float(totcorrect)/totcount\n",
    "    orgpower = orgpower/len(valloader)\n",
    "    orgpower = orgpower*prange + pmin\n",
    "    newpower = newpower/len(valloader)\n",
    "    newpower = newpower*prange + pmin\n",
    "    if(macc > bestacc) and e > epochs//2:\n",
    "        bestacc = macc\n",
    "        bestclf = clf.state_dict()\n",
    "    print(\"Cooldown {}\\t acc {:.4f}\\torgpower {:.2f}\\t newpower: {:.2f}\".format(e+1, macc, orgpower, newpower))\n",
    "\n",
    "clf.load_state_dict(bestclf)\n",
    "totcorrect = 0\n",
    "totcount = 0\n",
    "clf.eval()\n",
    "orgpower = 0.0\n",
    "newpower = 0.0\n",
    "for x,y in testloader:\n",
    "    xdata, ydata = x.cuda(), y.cuda()\n",
    "    orgpower += xdata.mean().item()\n",
    "    perturb = gen(xdata)\n",
    "    p_input = perturb.detach()\n",
    "    newpower += p_input.mean().item()\n",
    "    output = clf(p_input)\n",
    "    pred = output.argmax(axis=-1)\n",
    "    totcorrect += (pred==ydata).sum().item()\n",
    "    totcount += y.size(0)\n",
    "macc = float(totcorrect)/totcount\n",
    "orgpower = orgpower/len(valloader)\n",
    "orgpower = orgpower*prange + pmin\n",
    "newpower = newpower/len(valloader)\n",
    "newpower = newpower*prange + pmin\n",
    "print(\"Test acc {:.4f}\\torgpower {:.2f}\\t newpower: {:.2f}\".format(macc, orgpower, newpower))"
   ]
  },
  {
   "cell_type": "code",
   "execution_count": null,
   "metadata": {},
   "outputs": [],
   "source": [
    "clf.load_state_dict(bestclf)\n",
    "totcorrect = 0\n",
    "totcount = 0\n",
    "clf.eval()\n",
    "orgpower = 0.0\n",
    "newpower = 0.0\n",
    "for x,y in testloader:\n",
    "    xdata, ydata = x.cuda(), y.cuda()\n",
    "    orgpower += xdata.mean().item()\n",
    "    perturb = gen(xdata)\n",
    "    p_input = perturb.detach()\n",
    "    newpower += p_input.mean().item()\n",
    "    output = clf(p_input)\n",
    "    pred = output.argmax(axis=-1)\n",
    "    totcorrect += (pred==ydata).sum().item()\n",
    "    totcount += y.size(0)\n",
    "macc = float(totcorrect)/totcount\n",
    "orgpower = orgpower/len(valloader)\n",
    "orgpower = orgpower*prange + pmin\n",
    "newpower = newpower/len(valloader)\n",
    "newpower = newpower*prange + pmin\n",
    "print(\"Test acc {:.4f}\\torgpower {:.2f}\\t newpower: {:.2f}\".format(macc, orgpower, newpower))"
   ]
  },
  {
   "cell_type": "code",
   "execution_count": null,
   "metadata": {},
   "outputs": [],
   "source": [
    "train_x = []\n",
    "train_y = []\n",
    "valid_x = []\n",
    "valid_y = []\n",
    "for x,y in trainloader:\n",
    "    xdata, ydata = x.cuda(), y.cuda()\n",
    "    perturb = gen(xdata)\n",
    "    p_input = perturb.detach()\n",
    "    for p in p_input.cpu():\n",
    "        train_x.append(p.numpy())\n",
    "    for label in y:\n",
    "        train_y.append(label)\n",
    "\n",
    "for x,y in testloader:\n",
    "    xdata, ydata = x.cuda(), y.cuda()\n",
    "    perturb = gen(xdata)\n",
    "    p_input = perturb.detach()\n",
    "    for p in p_input.cpu():\n",
    "        valid_x.append(p.numpy())\n",
    "    for label in y:\n",
    "        valid_y.append(label)\n",
    "    "
   ]
  },
  {
   "cell_type": "code",
   "execution_count": null,
   "metadata": {},
   "outputs": [],
   "source": [
    "\n",
    "from sklearn import svm\n",
    "clf = svm.LinearSVC()\n",
    "clf.fit(train_x, train_y)\n",
    "pred_y = clf.predict(valid_x)"
   ]
  },
  {
   "cell_type": "code",
   "execution_count": null,
   "metadata": {},
   "outputs": [],
   "source": [
    "correct = [yp == y for yp,y in zip(pred_y, valid_y)]\n",
    "sum(correct)/len(correct)"
   ]
  },
  {
   "cell_type": "code",
   "execution_count": null,
   "metadata": {},
   "outputs": [],
   "source": [
    "print(clf.coef_.shape)\n",
    "print(clf.intercept_.shape)"
   ]
  },
  {
   "cell_type": "code",
   "execution_count": null,
   "metadata": {},
   "outputs": [],
   "source": [
    "model = RNNInference3(dim)\n",
    "model.copy_params(gen.cpu())\n",
    "script_module = torch.jit.trace(model, (torch.rand(1,32), torch.rand(1,dim)))"
   ]
  },
  {
   "cell_type": "code",
   "execution_count": null,
   "metadata": {},
   "outputs": [],
   "source": [
    "script_module.save('./cpuscript_{}_{}_{}.pt'.format(victim,'rnn3',dim))"
   ]
  },
  {
   "cell_type": "code",
   "execution_count": null,
   "metadata": {},
   "outputs": [],
   "source": [
    "aa = nn.Linear(32,64)\n",
    "model.encoder[1].weight.shape\n"
   ]
  },
  {
   "cell_type": "code",
   "execution_count": null,
   "metadata": {},
   "outputs": [],
   "source": []
  }
 ],
 "metadata": {
  "kernelspec": {
   "display_name": "Python 3.7.11 ('torch')",
   "language": "python",
   "name": "python3"
  },
  "language_info": {
   "codemirror_mode": {
    "name": "ipython",
    "version": 3
   },
   "file_extension": ".py",
   "mimetype": "text/x-python",
   "name": "python",
   "nbconvert_exporter": "python",
   "pygments_lexer": "ipython3",
   "version": "3.7.11"
  },
  "orig_nbformat": 4,
  "vscode": {
   "interpreter": {
    "hash": "2657186c0a85c2e6baa4c072599c792136a86a2a4c2021b8710be0ae7329b2e9"
   }
  }
 },
 "nbformat": 4,
 "nbformat_minor": 2
}
