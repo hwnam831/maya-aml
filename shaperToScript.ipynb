{
 "cells": [
  {
   "cell_type": "code",
   "execution_count": 1,
   "metadata": {},
   "outputs": [],
   "source": [
    "import numpy as np\n",
    "import torch\n",
    "import torch.nn.functional as F\n",
    "import torch.nn as nn\n",
    "from Models import AttnShaper, ShaperInference\n",
    "dim = 64\n",
    "gen = AttnShaper(dim=64)\n",
    "gen.load_state_dict(torch.load('best_shaper_{}.pth'.format(dim)))\n",
    "shaper2 = ShaperInference(gen)"
   ]
  },
  {
   "cell_type": "code",
   "execution_count": 6,
   "metadata": {},
   "outputs": [
    {
     "name": "stderr",
     "output_type": "stream",
     "text": [
      "/home/hwnam/anaconda3/lib/python3.10/site-packages/torch/jit/_trace.py:1084: TracerWarning: Trace had nondeterministic nodes. Did you forget call .eval() on your model? Nodes:\n",
      "\t%36 : Float(1, 8, strides=[8, 1], requires_grad=0, device=cpu) = aten::randn_like(%offset, %31, %32, %33, %34, %35) # /home/hwnam/maya-aml/Models.py:314:0\n",
      "This may cause errors in trace checking. To disable trace checking, pass check_trace=False to torch.jit.trace()\n",
      "  _check_trace(\n",
      "/home/hwnam/anaconda3/lib/python3.10/site-packages/torch/jit/_trace.py:1084: TracerWarning: Output nr 1. of the traced function does not match the corresponding output of the Python function. Detailed error:\n",
      "Tensor-likes are not close!\n",
      "\n",
      "Mismatched elements: 8 / 8 (100.0%)\n",
      "Greatest absolute difference: 0.6284788846969604 at index (5,) (up to 1e-05 allowed)\n",
      "Greatest relative difference: 1.8752969023922728 at index (0,) (up to 1e-05 allowed)\n",
      "  _check_trace(\n"
     ]
    }
   ],
   "source": [
    "script_module = torch.jit.trace(shaper2, torch.rand(1,32))"
   ]
  },
  {
   "cell_type": "code",
   "execution_count": 10,
   "metadata": {},
   "outputs": [],
   "source": [
    "script_module.graph\n",
    "script_module.save('./cpuscript_{}_{}_{}.pt'.format('parsec','shaper',dim))"
   ]
  },
  {
   "cell_type": "code",
   "execution_count": null,
   "metadata": {},
   "outputs": [],
   "source": []
  }
 ],
 "metadata": {
  "kernelspec": {
   "display_name": "base",
   "language": "python",
   "name": "python3"
  },
  "language_info": {
   "codemirror_mode": {
    "name": "ipython",
    "version": 3
   },
   "file_extension": ".py",
   "mimetype": "text/x-python",
   "name": "python",
   "nbconvert_exporter": "python",
   "pygments_lexer": "ipython3",
   "version": "3.10.9"
  },
  "orig_nbformat": 4
 },
 "nbformat": 4,
 "nbformat_minor": 2
}
