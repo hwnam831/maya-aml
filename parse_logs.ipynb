{
 "cells": [
  {
   "cell_type": "code",
   "execution_count": null,
   "metadata": {},
   "outputs": [],
   "source": [
    "import os\n",
    "import re\n",
    "logdir = 'maya_logs'\n",
    "filelist = os.listdir(logdir)\n",
    "labels = {\n",
    "    'blackscholes':0,\n",
    "    'bodytrack':1,\n",
    "    'canneal':2,\n",
    "    'freqmine':3,\n",
    "    'vips':4,\n",
    "    'streamcluster':5,\n",
    "    'splash2x.radiosity':6,\n",
    "    'splash2x.volrend':7,\n",
    "    'splash2x.water_nsquared':8,\n",
    "    'splash2x.water_spatial':9\n",
    "}\n",
    "namereader = re.compile(r\"(.+)_(\\d+)_log\\.txt\")\n",
    "m = namereader.match(filelist[5])\n",
    "m.group(1)"
   ]
  },
  {
   "cell_type": "code",
   "execution_count": null,
   "metadata": {},
   "outputs": [],
   "source": [
    "len(filelist)"
   ]
  },
  {
   "cell_type": "code",
   "execution_count": null,
   "metadata": {},
   "outputs": [],
   "source": [
    "import random\n",
    "import numpy as np\n",
    "y_data = []\n",
    "x_data = []\n",
    "minlen = 3000\n",
    "totpower = 0.0\n",
    "cutoff = 450\n",
    "mse = 0.0\n",
    "for filename in filelist:\n",
    "    sqe = 0.0\n",
    "    m = namereader.match(filename)\n",
    "    if not m:\n",
    "        continue\n",
    "    label = labels[m.group(1)]\n",
    "    trace = []\n",
    "    with open(logdir+'/'+filename,'r') as f:\n",
    "        cnt = 0\n",
    "        for line in f:\n",
    "            if cnt == 0:\n",
    "                cnt = 1\n",
    "                continue\n",
    "            tokens = line.split(\" \")\n",
    "            if(float(tokens[1]) < 0):\n",
    "                continue\n",
    "            trace.append(float(tokens[1]))\n",
    "            sqe += (float(tokens[1]) - float(tokens[5]))**2\n",
    "            cnt += 1\n",
    "    tracelen = len(trace)\n",
    "    mse += np.sqrt(sqe/tracelen)/len(filelist)\n",
    "    if tracelen < cutoff:\n",
    "        print(tracelen)\n",
    "        print(filename)\n",
    "        continue\n",
    "    minlen = min(tracelen, minlen)\n",
    "    offset = random.randint(0,tracelen-cutoff)\n",
    "    offset = min(offset, random.randint(0,50))\n",
    "    if np.array(trace).mean() > 0:\n",
    "        totpower = totpower + np.array(trace).mean()\n",
    "    else:\n",
    "        print(filename)\n",
    "    y_data.append(label)\n",
    "    x_data.append(trace[offset:offset+cutoff])\n",
    "\n",
    "print(minlen)\n",
    "print(totpower/len(filelist))\n",
    "print(\"MSE: {:.4f}\".format(mse))"
   ]
  },
  {
   "cell_type": "code",
   "execution_count": null,
   "metadata": {},
   "outputs": [],
   "source": [
    "split=1500\n",
    "from sklearn import svm\n",
    "clf = svm.SVC(gamma='auto',kernel='linear')\n",
    "clf.fit(x_data[:-split], y_data[:-split])\n",
    "pred_y = clf.predict(x_data[-split:])\n"
   ]
  },
  {
   "cell_type": "code",
   "execution_count": null,
   "metadata": {},
   "outputs": [],
   "source": [
    "correct = [yp == y for yp,y in zip(pred_y, y_data[-split:])]\n",
    "sum(correct)/len(correct)"
   ]
  },
  {
   "cell_type": "code",
   "execution_count": null,
   "metadata": {},
   "outputs": [],
   "source": [
    "pred_y[:20]"
   ]
  },
  {
   "cell_type": "code",
   "execution_count": null,
   "metadata": {},
   "outputs": [],
   "source": [
    "y_data[:20]"
   ]
  }
 ],
 "metadata": {
  "interpreter": {
   "hash": "2657186c0a85c2e6baa4c072599c792136a86a2a4c2021b8710be0ae7329b2e9"
  },
  "kernelspec": {
   "display_name": "Python 3.7.11 ('torch')",
   "language": "python",
   "name": "python3"
  },
  "language_info": {
   "codemirror_mode": {
    "name": "ipython",
    "version": 3
   },
   "file_extension": ".py",
   "mimetype": "text/x-python",
   "name": "python",
   "nbconvert_exporter": "python",
   "pygments_lexer": "ipython3",
   "version": "3.7.11"
  },
  "orig_nbformat": 4
 },
 "nbformat": 4,
 "nbformat_minor": 2
}
