{
 "cells": [
  {
   "cell_type": "code",
   "execution_count": null,
   "metadata": {},
   "outputs": [],
   "source": [
    "import numpy as np\n",
    "import torch\n",
    "import torch.nn.functional as F\n",
    "import torch.nn as nn\n",
    "from torch.utils.data import Dataset, DataLoader, random_split\n",
    "from MayaDataset import CNNCLF\n",
    "import MayaDataset\n",
    "from DefenderGAN import RNNGenerator,RNNGenerator2, Warmup\n",
    "import argparse\n",
    "import time\n",
    "import os\n",
    "\n",
    "dataset = MayaDataset.MayaDataset('logs',minpower=25, maxpower=225, window=2000)\n",
    "    \n",
    "dsets = random_split(dataset, [1000,1000,1000, 2000])\n",
    "trainset = dsets[0]\n",
    "trainloader = DataLoader(trainset, batch_size=32, num_workers=4)\n",
    "\n",
    "valset = dsets[1]\n",
    "valloader = DataLoader(valset, batch_size=32, num_workers=4)\n",
    "\n",
    "testset = dsets[2]\n",
    "testloader = DataLoader(testset, batch_size=32, num_workers=4)\n",
    "\n",
    "dim=256\n",
    "clf = CNNCLF(dataset.window).cuda()\n",
    "gen = RNNGenerator2(dim).cuda()\n",
    "bestname = './best_{}_{}.pth'.format('rnn2',dim)\n",
    "if os.path.isfile(bestname):\n",
    "    print('Previous best found: loading the model...')\n",
    "    gen.load_state_dict(torch.load(bestname))\n",
    "gen.train()\n"
   ]
  },
  {
   "cell_type": "code",
   "execution_count": null,
   "metadata": {},
   "outputs": [],
   "source": [
    "optim_c = torch.optim.Adam(clf.parameters(), lr=0.0001)\n",
    "criterion = nn.CrossEntropyLoss()\n",
    "bestacc = 0.0\n",
    "epochs = 30\n",
    "for e in range(epochs):\n",
    "    clf.train()\n",
    "    for x,y in trainloader:\n",
    "        optim_c.zero_grad()\n",
    "        xdata, ydata = x.cuda(), y.cuda()\n",
    "        perturb = gen(xdata)\n",
    "        p_input = torch.relu(xdata + perturb.detach())\n",
    "        output = clf(p_input)\n",
    "        loss = criterion(output, ydata)\n",
    "        loss.backward()\n",
    "        optim_c.step()\n",
    "    totcorrect = 0\n",
    "    totcount = 0\n",
    "    clf.eval()\n",
    "    orgpower = 0.0\n",
    "    newpower = 0.0\n",
    "    for x,y in valloader:\n",
    "        xdata, ydata = x.cuda(), y.cuda()\n",
    "        orgpower += xdata.mean().item()\n",
    "        perturb = gen(xdata)\n",
    "        p_input = torch.relu(xdata + perturb.detach())\n",
    "        newpower += p_input.mean().item()\n",
    "        output = clf(p_input)\n",
    "        pred = output.argmax(axis=-1)\n",
    "        totcorrect += (pred==ydata).sum().item()\n",
    "        totcount += y.size(0)\n",
    "    macc = float(totcorrect)/totcount\n",
    "    orgpower = orgpower/len(valloader)\n",
    "    orgpower = orgpower*200 + 25\n",
    "    newpower = newpower/len(valloader)\n",
    "    newpower = newpower*200 + 25\n",
    "    if(macc > bestacc) and e > epochs//2:\n",
    "        bestacc = macc\n",
    "        bestclf = clf.state_dict()\n",
    "    print(\"Cooldown {}\\t acc {:.4f}\\torgpower {:.2f}\\t newpower: {:.2f}\".format(e+1, macc, orgpower, newpower))\n",
    "\n",
    "clf.load_state_dict(bestclf)\n",
    "totcorrect = 0\n",
    "totcount = 0\n",
    "clf.eval()\n",
    "orgpower = 0.0\n",
    "newpower = 0.0\n",
    "for x,y in testloader:\n",
    "    xdata, ydata = x.cuda(), y.cuda()\n",
    "    orgpower += xdata.mean().item()\n",
    "    perturb = gen(xdata)\n",
    "    p_input = torch.relu(xdata + perturb.detach())\n",
    "    newpower += p_input.mean().item()\n",
    "    output = clf(p_input)\n",
    "    pred = output.argmax(axis=-1)\n",
    "    totcorrect += (pred==ydata).sum().item()\n",
    "    totcount += y.size(0)\n",
    "macc = float(totcorrect)/totcount\n",
    "orgpower = orgpower/len(valloader)\n",
    "orgpower = orgpower*200 + 25\n",
    "newpower = newpower/len(valloader)\n",
    "newpower = newpower*200 + 25\n",
    "print(\"Test acc {:.4f}\\torgpower {:.2f}\\t newpower: {:.2f}\".format(macc, orgpower, newpower))"
   ]
  },
  {
   "cell_type": "code",
   "execution_count": null,
   "metadata": {},
   "outputs": [],
   "source": [
    "train_x = []\n",
    "train_y = []\n",
    "valid_x = []\n",
    "valid_y = []\n",
    "for x,y in trainloader:\n",
    "    xdata, ydata = x.cuda(), y.cuda()\n",
    "    perturb = gen(xdata)\n",
    "    p_input = torch.relu(xdata + perturb.detach())\n",
    "    for p in p_input.cpu():\n",
    "        train_x.append(p.numpy())\n",
    "    for label in y:\n",
    "        train_y.append(label)\n",
    "\n",
    "for x,y in testloader:\n",
    "    xdata, ydata = x.cuda(), y.cuda()\n",
    "    perturb = gen(xdata)\n",
    "    p_input = torch.relu(xdata + perturb.detach())\n",
    "    for p in p_input.cpu():\n",
    "        valid_x.append(p.numpy())\n",
    "    for label in y:\n",
    "        valid_y.append(label)\n",
    "    "
   ]
  },
  {
   "cell_type": "code",
   "execution_count": null,
   "metadata": {},
   "outputs": [],
   "source": [
    "\n",
    "from sklearn import svm\n",
    "clf = svm.LinearSVC()\n",
    "clf.fit(train_x, train_y)\n",
    "pred_y = clf.predict(valid_x)"
   ]
  },
  {
   "cell_type": "code",
   "execution_count": null,
   "metadata": {},
   "outputs": [],
   "source": [
    "correct = [yp == y for yp,y in zip(pred_y, valid_y)]\n",
    "sum(correct)/len(correct)"
   ]
  },
  {
   "cell_type": "code",
   "execution_count": null,
   "metadata": {},
   "outputs": [],
   "source": [
    "print(clf.coef_.shape)\n",
    "print(clf.intercept_.shape)"
   ]
  },
  {
   "cell_type": "code",
   "execution_count": null,
   "metadata": {},
   "outputs": [],
   "source": []
  },
  {
   "cell_type": "code",
   "execution_count": null,
   "metadata": {},
   "outputs": [],
   "source": []
  }
 ],
 "metadata": {
  "interpreter": {
   "hash": "2657186c0a85c2e6baa4c072599c792136a86a2a4c2021b8710be0ae7329b2e9"
  },
  "kernelspec": {
   "display_name": "Python 3.7.11 ('torch')",
   "language": "python",
   "name": "python3"
  },
  "language_info": {
   "codemirror_mode": {
    "name": "ipython",
    "version": 3
   },
   "file_extension": ".py",
   "mimetype": "text/x-python",
   "name": "python",
   "nbconvert_exporter": "python",
   "pygments_lexer": "ipython3",
   "version": "3.7.11"
  },
  "orig_nbformat": 4
 },
 "nbformat": 4,
 "nbformat_minor": 2
}
