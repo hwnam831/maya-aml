{
 "cells": [
  {
   "cell_type": "code",
   "execution_count": 10,
   "metadata": {},
   "outputs": [
    {
     "name": "stdout",
     "output_type": "stream",
     "text": [
      "Previous best found: loading the model...\n"
     ]
    },
    {
     "data": {
      "text/plain": [
       "RNNGenerator2(\n",
       "  (encoder): Sequential(\n",
       "    (0): NoiseInjector()\n",
       "    (1): Conv1d(1, 64, kernel_size=(32,), stride=(1,))\n",
       "    (2): ReLU()\n",
       "    (3): NoiseInjector()\n",
       "  )\n",
       "  (resblock): GRU(64, 64, batch_first=True)\n",
       "  (decoder): Sequential(\n",
       "    (0): NoiseInjector()\n",
       "    (1): Linear(in_features=64, out_features=1, bias=True)\n",
       "    (2): Hardtanh(min_val=-1.0, max_val=1.0)\n",
       "  )\n",
       ")"
      ]
     },
     "execution_count": 10,
     "metadata": {},
     "output_type": "execute_result"
    }
   ],
   "source": [
    "import numpy as np\n",
    "import torch\n",
    "import torch.nn.functional as F\n",
    "import torch.nn as nn\n",
    "from torch.utils.data import Dataset, DataLoader, random_split\n",
    "from MayaDataset import CNNCLF\n",
    "import MayaDataset\n",
    "from DefenderGAN import Warmup\n",
    "from Models import RNNGenerator2, RNNInference\n",
    "import argparse\n",
    "import time\n",
    "import os\n",
    "victim = 'video'\n",
    "dataset = MayaDataset.MayaDataset('raw_video',minpower=30, maxpower=200, window=1400, labels=victim)\n",
    "\n",
    "dsets = random_split(dataset, [1000,1000,1000, 1000])\n",
    "trainset = dsets[0]\n",
    "trainloader = DataLoader(trainset, batch_size=32, num_workers=4)\n",
    "\n",
    "valset = dsets[1]\n",
    "valloader = DataLoader(valset, batch_size=32, num_workers=4)\n",
    "\n",
    "testset = dsets[2]\n",
    "testloader = DataLoader(testset, batch_size=32, num_workers=4)\n",
    "\n",
    "dim=64\n",
    "clf = CNNCLF(dataset.window).cuda()\n",
    "gen = RNNGenerator2(dim).cuda()\n",
    "#bestname = './best_{}_{}_{}.pth'.format(victim,'rnn2',dim)\n",
    "bestname = './best_{}_{}.pth'.format('rnn2',dim)\n",
    "if os.path.isfile(bestname):\n",
    "    print('Previous best found: loading the model...')\n",
    "    gen.load_state_dict(torch.load(bestname))\n",
    "gen.train()\n"
   ]
  },
  {
   "cell_type": "code",
   "execution_count": 11,
   "metadata": {},
   "outputs": [
    {
     "name": "stdout",
     "output_type": "stream",
     "text": [
      "Cooldown 1\t acc 0.2120\torgpower 79.28\t newpower: 65.84\n",
      "Cooldown 2\t acc 0.3310\torgpower 79.28\t newpower: 65.84\n",
      "Cooldown 3\t acc 0.6380\torgpower 79.28\t newpower: 65.84\n",
      "Cooldown 4\t acc 0.6620\torgpower 79.28\t newpower: 65.85\n",
      "Cooldown 5\t acc 0.6830\torgpower 79.28\t newpower: 65.85\n",
      "Cooldown 6\t acc 0.6610\torgpower 79.28\t newpower: 65.84\n",
      "Cooldown 7\t acc 0.6670\torgpower 79.28\t newpower: 65.84\n",
      "Cooldown 8\t acc 0.7160\torgpower 79.28\t newpower: 65.85\n",
      "Cooldown 9\t acc 0.6800\torgpower 79.28\t newpower: 65.84\n",
      "Cooldown 10\t acc 0.6790\torgpower 79.28\t newpower: 65.85\n",
      "Cooldown 11\t acc 0.7010\torgpower 79.28\t newpower: 65.84\n",
      "Cooldown 12\t acc 0.7150\torgpower 79.28\t newpower: 65.84\n",
      "Cooldown 13\t acc 0.7010\torgpower 79.28\t newpower: 65.84\n",
      "Cooldown 14\t acc 0.7080\torgpower 79.28\t newpower: 65.84\n",
      "Cooldown 15\t acc 0.7100\torgpower 79.28\t newpower: 65.84\n",
      "Cooldown 16\t acc 0.6990\torgpower 79.28\t newpower: 65.85\n",
      "Cooldown 17\t acc 0.7150\torgpower 79.28\t newpower: 65.84\n",
      "Cooldown 18\t acc 0.6990\torgpower 79.28\t newpower: 65.84\n",
      "Cooldown 19\t acc 0.6950\torgpower 79.28\t newpower: 65.85\n",
      "Cooldown 20\t acc 0.7070\torgpower 79.28\t newpower: 65.85\n",
      "Cooldown 21\t acc 0.6980\torgpower 79.28\t newpower: 65.84\n",
      "Cooldown 22\t acc 0.6830\torgpower 79.28\t newpower: 65.85\n",
      "Cooldown 23\t acc 0.6820\torgpower 79.28\t newpower: 65.84\n",
      "Cooldown 24\t acc 0.7060\torgpower 79.28\t newpower: 65.85\n",
      "Cooldown 25\t acc 0.6860\torgpower 79.28\t newpower: 65.84\n",
      "Cooldown 26\t acc 0.7230\torgpower 79.28\t newpower: 65.85\n",
      "Cooldown 27\t acc 0.7100\torgpower 79.28\t newpower: 65.84\n",
      "Cooldown 28\t acc 0.7170\torgpower 79.28\t newpower: 65.84\n",
      "Cooldown 29\t acc 0.7220\torgpower 79.28\t newpower: 65.84\n",
      "Cooldown 30\t acc 0.7230\torgpower 79.28\t newpower: 65.85\n",
      "Test acc 0.6980\torgpower 80.11\t newpower: 65.86\n"
     ]
    }
   ],
   "source": [
    "optim_c = torch.optim.Adam(clf.parameters(), lr=0.0001)\n",
    "criterion = nn.CrossEntropyLoss()\n",
    "bestacc = 0.0\n",
    "epochs = 30\n",
    "prange = dataset.maxpower - dataset.minpower\n",
    "pmin = dataset.minpower\n",
    "for e in range(epochs):\n",
    "    clf.train()\n",
    "    for x,y in trainloader:\n",
    "        optim_c.zero_grad()\n",
    "        xdata, ydata = x.cuda(), y.cuda()\n",
    "        perturb = gen(xdata)\n",
    "        p_input = torch.relu(xdata + perturb.detach())\n",
    "        output = clf(p_input)\n",
    "        loss = criterion(output, ydata)\n",
    "        loss.backward()\n",
    "        optim_c.step()\n",
    "    totcorrect = 0\n",
    "    totcount = 0\n",
    "    clf.eval()\n",
    "    orgpower = 0.0\n",
    "    newpower = 0.0\n",
    "    for x,y in valloader:\n",
    "        xdata, ydata = x.cuda(), y.cuda()\n",
    "        orgpower += xdata.mean().item()\n",
    "        perturb = gen(xdata)\n",
    "        p_input = torch.relu(xdata + perturb.detach())\n",
    "        newpower += p_input.mean().item()\n",
    "        output = clf(p_input)\n",
    "        pred = output.argmax(axis=-1)\n",
    "        totcorrect += (pred==ydata).sum().item()\n",
    "        totcount += y.size(0)\n",
    "    macc = float(totcorrect)/totcount\n",
    "    orgpower = orgpower/len(valloader)\n",
    "    orgpower = orgpower*prange + pmin\n",
    "    newpower = newpower/len(valloader)\n",
    "    newpower = newpower*prange + pmin\n",
    "    if(macc > bestacc) and e > epochs//2:\n",
    "        bestacc = macc\n",
    "        bestclf = clf.state_dict()\n",
    "    print(\"Cooldown {}\\t acc {:.4f}\\torgpower {:.2f}\\t newpower: {:.2f}\".format(e+1, macc, orgpower, newpower))\n",
    "\n",
    "clf.load_state_dict(bestclf)\n",
    "totcorrect = 0\n",
    "totcount = 0\n",
    "clf.eval()\n",
    "orgpower = 0.0\n",
    "newpower = 0.0\n",
    "for x,y in testloader:\n",
    "    xdata, ydata = x.cuda(), y.cuda()\n",
    "    orgpower += xdata.mean().item()\n",
    "    perturb = gen(xdata)\n",
    "    p_input = torch.relu(xdata + perturb.detach())\n",
    "    newpower += p_input.mean().item()\n",
    "    output = clf(p_input)\n",
    "    pred = output.argmax(axis=-1)\n",
    "    totcorrect += (pred==ydata).sum().item()\n",
    "    totcount += y.size(0)\n",
    "macc = float(totcorrect)/totcount\n",
    "orgpower = orgpower/len(valloader)\n",
    "orgpower = orgpower*prange + pmin\n",
    "newpower = newpower/len(valloader)\n",
    "newpower = newpower*prange + pmin\n",
    "print(\"Test acc {:.4f}\\torgpower {:.2f}\\t newpower: {:.2f}\".format(macc, orgpower, newpower))"
   ]
  },
  {
   "cell_type": "code",
   "execution_count": 6,
   "metadata": {},
   "outputs": [
    {
     "name": "stdout",
     "output_type": "stream",
     "text": [
      "Test acc 0.2550\torgpower 79.83\t newpower: 92.61\n"
     ]
    }
   ],
   "source": [
    "clf.load_state_dict(bestclf)\n",
    "totcorrect = 0\n",
    "totcount = 0\n",
    "clf.eval()\n",
    "orgpower = 0.0\n",
    "newpower = 0.0\n",
    "for x,y in testloader:\n",
    "    xdata, ydata = x.cuda(), y.cuda()\n",
    "    orgpower += xdata.mean().item()\n",
    "    perturb = gen(xdata)\n",
    "    p_input = torch.relu(xdata + perturb.detach())\n",
    "    newpower += p_input.mean().item()\n",
    "    output = clf(p_input)\n",
    "    pred = output.argmax(axis=-1)\n",
    "    totcorrect += (pred==ydata).sum().item()\n",
    "    totcount += y.size(0)\n",
    "macc = float(totcorrect)/totcount\n",
    "orgpower = orgpower/len(valloader)\n",
    "orgpower = orgpower*prange + pmin\n",
    "newpower = newpower/len(valloader)\n",
    "newpower = newpower*prange + pmin\n",
    "print(\"Test acc {:.4f}\\torgpower {:.2f}\\t newpower: {:.2f}\".format(macc, orgpower, newpower))"
   ]
  },
  {
   "cell_type": "code",
   "execution_count": null,
   "metadata": {},
   "outputs": [],
   "source": [
    "train_x = []\n",
    "train_y = []\n",
    "valid_x = []\n",
    "valid_y = []\n",
    "for x,y in trainloader:\n",
    "    xdata, ydata = x.cuda(), y.cuda()\n",
    "    perturb = gen(xdata)\n",
    "    p_input = torch.relu(xdata + perturb.detach())\n",
    "    for p in p_input.cpu():\n",
    "        train_x.append(p.numpy())\n",
    "    for label in y:\n",
    "        train_y.append(label)\n",
    "\n",
    "for x,y in testloader:\n",
    "    xdata, ydata = x.cuda(), y.cuda()\n",
    "    perturb = gen(xdata)\n",
    "    p_input = torch.relu(xdata + perturb.detach())\n",
    "    for p in p_input.cpu():\n",
    "        valid_x.append(p.numpy())\n",
    "    for label in y:\n",
    "        valid_y.append(label)\n",
    "    "
   ]
  },
  {
   "cell_type": "code",
   "execution_count": null,
   "metadata": {},
   "outputs": [],
   "source": [
    "\n",
    "from sklearn import svm\n",
    "clf = svm.LinearSVC()\n",
    "clf.fit(train_x, train_y)\n",
    "pred_y = clf.predict(valid_x)"
   ]
  },
  {
   "cell_type": "code",
   "execution_count": null,
   "metadata": {},
   "outputs": [],
   "source": [
    "correct = [yp == y for yp,y in zip(pred_y, valid_y)]\n",
    "sum(correct)/len(correct)"
   ]
  },
  {
   "cell_type": "code",
   "execution_count": null,
   "metadata": {},
   "outputs": [],
   "source": [
    "print(clf.coef_.shape)\n",
    "print(clf.intercept_.shape)"
   ]
  },
  {
   "cell_type": "code",
   "execution_count": 8,
   "metadata": {},
   "outputs": [
    {
     "name": "stderr",
     "output_type": "stream",
     "text": [
      "/home/hwnam/anaconda3/envs/torch/lib/python3.7/site-packages/torch/jit/_trace.py:991: TracerWarning: Output nr 1. of the traced function does not match the corresponding output of the Python function. Detailed error:\n",
      "Tensor-likes are not close!\n",
      "\n",
      "Mismatched elements: 1 / 1 (100.0%)\n",
      "Greatest absolute difference: 0.19602189026772976 at index (0, 0) (up to 1e-05 allowed)\n",
      "Greatest relative difference: 1.1124534356754818 at index (0, 0) (up to 1e-05 allowed)\n",
      "  _module_class,\n",
      "/home/hwnam/anaconda3/envs/torch/lib/python3.7/site-packages/torch/jit/_trace.py:991: TracerWarning: Output nr 2. of the traced function does not match the corresponding output of the Python function. Detailed error:\n",
      "Tensor-likes are not close!\n",
      "\n",
      "Mismatched elements: 64 / 64 (100.0%)\n",
      "Greatest absolute difference: 0.08395768702030182 at index (0, 59) (up to 1e-05 allowed)\n",
      "Greatest relative difference: 178.0198064169206 at index (0, 27) (up to 1e-05 allowed)\n",
      "  _module_class,\n"
     ]
    }
   ],
   "source": [
    "model = RNNInference(dim)\n",
    "model.copy_params(gen.cpu())\n",
    "script_module = torch.jit.trace(model, (torch.rand(1,32), torch.rand(1,dim)))"
   ]
  },
  {
   "cell_type": "code",
   "execution_count": 9,
   "metadata": {},
   "outputs": [],
   "source": [
    "script_module.save('./cpuscript_{}_{}_{}.pt'.format(victim,'rnn2',dim))"
   ]
  },
  {
   "cell_type": "code",
   "execution_count": null,
   "metadata": {},
   "outputs": [],
   "source": [
    "aa = nn.Linear(32,64)\n",
    "model.encoder[1].weight.shape\n"
   ]
  },
  {
   "cell_type": "code",
   "execution_count": null,
   "metadata": {},
   "outputs": [],
   "source": []
  }
 ],
 "metadata": {
  "interpreter": {
   "hash": "2657186c0a85c2e6baa4c072599c792136a86a2a4c2021b8710be0ae7329b2e9"
  },
  "kernelspec": {
   "display_name": "Python 3.7.11 ('torch')",
   "language": "python",
   "name": "python3"
  },
  "language_info": {
   "codemirror_mode": {
    "name": "ipython",
    "version": 3
   },
   "file_extension": ".py",
   "mimetype": "text/x-python",
   "name": "python",
   "nbconvert_exporter": "python",
   "pygments_lexer": "ipython3",
   "version": "3.7.11"
  },
  "orig_nbformat": 4
 },
 "nbformat": 4,
 "nbformat_minor": 2
}
